{
  "nbformat": 4,
  "nbformat_minor": 0,
  "metadata": {
    "colab": {
      "provenance": [],
      "mount_file_id": "1JzXlOiwJIEBbISW8h48k_aIWbTFbJIvL",
      "authorship_tag": "ABX9TyP0bsD1iSCJLZ1/At0xl0xj",
      "include_colab_link": true
    },
    "kernelspec": {
      "name": "python3",
      "display_name": "Python 3"
    },
    "language_info": {
      "name": "python"
    }
  },
  "cells": [
    {
      "cell_type": "markdown",
      "metadata": {
        "id": "view-in-github",
        "colab_type": "text"
      },
      "source": [
        "<a href=\"https://colab.research.google.com/github/brendanlooker/df-demo/blob/main/dataform.ipynb\" target=\"_parent\"><img src=\"https://colab.research.google.com/assets/colab-badge.svg\" alt=\"Open In Colab\"/></a>"
      ]
    },
    {
      "cell_type": "markdown",
      "source": [
        "Install the Client Library"
      ],
      "metadata": {
        "id": "EAI3uAskjL0a"
      }
    },
    {
      "cell_type": "code",
      "execution_count": null,
      "metadata": {
        "id": "CRaJK_WWER4X"
      },
      "outputs": [],
      "source": [
        "pip install google-cloud-dataform"
      ]
    },
    {
      "cell_type": "code",
      "source": [
        "\n",
        "import logging\n",
        "import time\n",
        "\n",
        "from google.cloud import dataform_v1beta1 as dataform"
      ],
      "metadata": {
        "id": "b_aZhxmnFib0"
      },
      "execution_count": 8,
      "outputs": []
    },
    {
      "cell_type": "code",
      "source": [
        "# Initialise client\n",
        "\n",
        "df_client = dataform.DataformClient()\n"
      ],
      "metadata": {
        "id": "KVukv9yNFk9y"
      },
      "execution_count": 9,
      "outputs": []
    },
    {
      "cell_type": "code",
      "source": [
        "# Authenticate via ADC (Application Default Credentials)\n",
        "\n",
        "!gcloud auth application-default login"
      ],
      "metadata": {
        "id": "D7L7fhKpIV6J"
      },
      "execution_count": null,
      "outputs": []
    },
    {
      "cell_type": "code",
      "source": [
        "# Complete set-up\n",
        "project = '' # Set GCP project\n",
        "\n",
        "!gcloud auth application-default set-quota-project {project}"
      ],
      "metadata": {
        "id": "8zbCV5XDMO2C"
      },
      "execution_count": null,
      "outputs": []
    },
    {
      "cell_type": "code",
      "source": [
        "# Create a Dataform Repository\n",
        "\n",
        "gcp_project = ''\n",
        "location = 'europe-west4'\n",
        "repo_name = 'demo_repo-df'\n",
        "\n",
        "repo_uri = f'projects/{gcp_project}/locations/{location}'\n",
        "\n",
        "\n",
        "\n",
        "request = dataform.CreateRepositoryRequest(\n",
        "    parent=repo_uri,\n",
        "    repository=dataform.Repository(\n",
        "        name=repo_name),\n",
        "    repository_id=repo_name\n",
        ")\n",
        "\n",
        "print(request)\n",
        "\n",
        "df_client.create_repository(request=request)"
      ],
      "metadata": {
        "id": "LzgyPi81y745"
      },
      "execution_count": null,
      "outputs": []
    },
    {
      "cell_type": "code",
      "source": [
        "# Create a Dataform Workspace\n",
        "\n",
        "gcp_project = ''\n",
        "location = 'europe-west4'\n",
        "repo_name = 'demo_repo-df'\n",
        "workspace='demo_repo-df-dev1'\n",
        "\n",
        "\n",
        "repo_uri = f'projects/{gcp_project}/locations/{location}/repositories/{repo_name}'\n",
        "\n",
        "\n",
        "\n",
        "request = dataform.CreateWorkspaceRequest(\n",
        "    parent=repo_uri,\n",
        "    workspace=dataform.Workspace(\n",
        "        name=repo_name),\n",
        "    workspace_id=workspace\n",
        ")\n",
        "\n",
        "print(request)\n",
        "\n",
        "df_client.create_workspace(request=request)\n"
      ],
      "metadata": {
        "id": "im42wNTauIN7"
      },
      "execution_count": null,
      "outputs": []
    },
    {
      "cell_type": "code",
      "source": [
        "# Compile a workflow (Create a complilation result)\n",
        "\n",
        "\n",
        "gcp_project = ''\n",
        "bq_dataset = 'df_demo_ds'\n",
        "location = 'europe-west4'\n",
        "repo_name = 'dataform-demo'\n",
        "branch = 'main'\n",
        "\n",
        "\n",
        "repo_uri = f'projects/{gcp_project}/locations/{location}/repositories/{repo_name}'\n",
        "\n",
        "request = dataform.CreateCompilationResultRequest(\n",
        "    parent=repo_uri,\n",
        "    compilation_result=dataform.types.CompilationResult(\n",
        "        git_commitish=branch,\n",
        "        code_compilation_config=dataform.types.CompilationResult.CodeCompilationConfig(\n",
        "            default_database=gcp_project,\n",
        "            default_schema=bq_dataset,\n",
        "        )\n",
        "    )\n",
        ")\n",
        "\n",
        "print(request)\n",
        "\n",
        "response = df_client.create_compilation_result(request=request)\n",
        "compilation_result = response.name\n",
        "logging.info(f'compiled workflow {compilation_result}')\n",
        "print(compilation_result)\n"
      ],
      "metadata": {
        "id": "PLGw6AE8Xisa"
      },
      "execution_count": null,
      "outputs": []
    },
    {
      "cell_type": "code",
      "source": [
        "# Execute a workflow (Using the complilation result created in the previous step)\n",
        "\n",
        "\n",
        "repo_uri = f'projects/{gcp_project}/locations/{location}/repositories/{repo_name}'\n",
        "\n",
        "\n",
        "\n",
        "request = dataform.CreateWorkflowInvocationRequest(\n",
        "    parent=repo_uri,\n",
        "    workflow_invocation=dataform.types.WorkflowInvocation(\n",
        "        compilation_result=compilation_result\n",
        "    )\n",
        ")\n",
        "\n",
        "print(request)\n",
        "\n",
        "response = df_client.create_workflow_invocation(request=request)\n",
        "workflow_invocation = response.name\n",
        "logging.info(f'created workflow invocation {workflow_invocation}')\n",
        "print (workflow_invocation)"
      ],
      "metadata": {
        "id": "4h09P-6TQCQ3"
      },
      "execution_count": null,
      "outputs": []
    },
    {
      "cell_type": "code",
      "source": [
        "# Get workflow state\n",
        "\n",
        "repo_uri = f'projects/{gcp_project}/locations/{location}/repositories/{repo_name}'\n",
        "\n",
        "\n",
        "\n",
        "while True:\n",
        "    request = dataform.GetWorkflowInvocationRequest(\n",
        "        name=workflow_invocation\n",
        "    )\n",
        "    response = df_client.get_workflow_invocation(request)\n",
        "    state = response.state.name\n",
        "    logging.info(f'workflow state: {state}')\n",
        "    if state == 'RUNNING':\n",
        "        time.sleep(10)\n",
        "    else:\n",
        "      break\n",
        "\n",
        "if state in ('FAILED', 'CANCELING', 'CANCELLED'):\n",
        "  raise Exception(f'Error while running workflow {workflow_invocation}')\n",
        "elif state == 'SUCCEEDED':\n",
        "        print(\"Success!\")"
      ],
      "metadata": {
        "id": "SctcnHUwCjHf"
      },
      "execution_count": null,
      "outputs": []
    }
  ]
}